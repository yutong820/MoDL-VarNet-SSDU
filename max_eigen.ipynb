{
 "cells": [
  {
   "cell_type": "code",
   "execution_count": 1,
   "metadata": {},
   "outputs": [],
   "source": [
    "import h5py\n",
    "\n",
    "file = './processedData/fastMRI_4_cart.h5'\n",
    "with h5py.File(file, 'r') as F:\n",
    "     coil = F['trnCsm'][:]\n",
    "     mask = F['trnMask'][:]"
   ]
  },
  {
   "cell_type": "code",
   "execution_count": 2,
   "metadata": {},
   "outputs": [],
   "source": [
    "import torch\n",
    "from models import mri\n",
    "\n",
    "def get_max_eig(coil, mask):\n",
    "        r\"\"\" compute maximal eigenvalue\n",
    "\n",
    "        References:\n",
    "            * Beck A, Teboulle M.\n",
    "              A Fast Iterative Shrinkage-Thresholding Algorithm for Linear Inverse Problems.\n",
    "              SIAM J Imaging Sci (2009). DOI: https://doi.org/10.1137/080716542\n",
    "            * Tan Z, Hohage T, Kalentev O, Joseph AA, Wang X, Voit D, Merboldt KD, Frahm J.\n",
    "              An eigenvalue approach for the automatic scaling of unknowns in model-based reconstructions: Application to real-time phase-contrast flow MRI.\n",
    "              NMR Biomed (2017). DOI: https://doi.org/10.1002/nbm.3835\n",
    "        \"\"\"\n",
    "        A = mri.SenseOp(coil, mask)\n",
    "\n",
    "        # x = torch.randn(size=A.shape, dtype=coil.dtype)\n",
    "        coil = torch.from_numpy(coil)\n",
    "        x = torch.randn_like(coil)\n",
    "        x = torch.swapaxes(x, 0, 1)\n",
    "        for _ in range(30):\n",
    "            y = A.adj(A.fwd(x))\n",
    "            max_eig = torch.linalg.norm(y).ravel()\n",
    "            x = y / max_eig\n",
    "\n",
    "            # print(max_eig)\n",
    "\n",
    "        return max_eig"
   ]
  },
  {
   "cell_type": "code",
   "execution_count": 3,
   "metadata": {},
   "outputs": [
    {
     "data": {
      "text/plain": [
       "tensor([0.6702])"
      ]
     },
     "execution_count": 3,
     "metadata": {},
     "output_type": "execute_result"
    }
   ],
   "source": [
    "get_max_eig(coil, mask)"
   ]
  }
 ],
 "metadata": {
  "kernelspec": {
   "display_name": "modl",
   "language": "python",
   "name": "python3"
  },
  "language_info": {
   "codemirror_mode": {
    "name": "ipython",
    "version": 3
   },
   "file_extension": ".py",
   "mimetype": "text/x-python",
   "name": "python",
   "nbconvert_exporter": "python",
   "pygments_lexer": "ipython3",
   "version": "3.9.18"
  }
 },
 "nbformat": 4,
 "nbformat_minor": 2
}
